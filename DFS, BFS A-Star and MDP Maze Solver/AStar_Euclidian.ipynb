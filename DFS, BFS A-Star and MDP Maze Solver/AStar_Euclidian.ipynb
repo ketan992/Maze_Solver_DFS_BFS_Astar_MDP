{
 "cells": [
  {
   "cell_type": "markdown",
   "id": "a6762189",
   "metadata": {},
   "source": [
    "### Import Libraries\n",
    "#### Please use pip install pyamaze before running this code if not already executed"
   ]
  },
  {
   "cell_type": "code",
   "execution_count": 1,
   "id": "36c835a7",
   "metadata": {},
   "outputs": [],
   "source": [
    "from pyamaze import maze, agent, COLOR, textLabel\n",
    "import tracemalloc as memory_trace\n",
    "import time\n",
    "from IPython.display import display\n",
    "import pandas as pd\n",
    "from queue import PriorityQueue\n",
    "import numpy as np"
   ]
  },
  {
   "cell_type": "markdown",
   "id": "22b8e607",
   "metadata": {},
   "source": [
    "### Impelement A* Algortihm Functionality"
   ]
  },
  {
   "cell_type": "code",
   "execution_count": 2,
   "id": "c960c55f",
   "metadata": {},
   "outputs": [],
   "source": [
    "class A_Star_Search : \n",
    "    \n",
    "    def __init__(self, maze_size) : \n",
    "        self.maze_size = maze_size\n",
    "    \n",
    "    def load_maze(self) : \n",
    "        m = maze()\n",
    "        maze_name = 'Maze_' + str(self.maze_size) + 'X' + str(self.maze_size)\n",
    "        m.CreateMaze(loadMaze = maze_name + '.csv')\n",
    "        return m\n",
    "    \n",
    "    def start_memory_tracing(self) :\n",
    "        memory_trace.stop()\n",
    "        memory_trace.start()\n",
    "        \n",
    "    def stop_memory_tracing(self) : \n",
    "        memory_size, memory_peak = memory_trace.get_traced_memory()\n",
    "        return memory_size, memory_peak\n",
    "    \n",
    "    def initialize_maze(self) : \n",
    "        self.maze = self.load_maze()\n",
    "        self.goal_node = self.maze._goal\n",
    "        self.start_node = (self.maze_size, self.maze_size)\n",
    "        \n",
    "    def initialise_cost(self) : \n",
    "        self.next_node_cost = {node : 0 if node == self.start_node else float('inf') for node in self.maze.grid}\n",
    "        self.total_cost = {node :  0 + self.get_euclidian_distance_heuristic_cost(self.start_node) if node == self.start_node else float('inf') for node in self.maze.grid}\n",
    "        \n",
    "    \n",
    "    def execute_a_star_search(self):\n",
    "        self.initialize_maze()\n",
    "        self.initialise_cost()\n",
    "        priority_queue = PriorityQueue()\n",
    "        priority_queue.put((0 + self.get_euclidian_distance_heuristic_cost(self.start_node), self.get_euclidian_distance_heuristic_cost(self.start_node), self.start_node))\n",
    "        \n",
    "        explored_nodes = []\n",
    "        path_traversed = {}\n",
    "        \n",
    "        start_time = time.time() * 1000\n",
    "        self.start_memory_tracing()\n",
    "        while not priority_queue.empty() : \n",
    "            \n",
    "            current_node = priority_queue.get()[2]\n",
    "            explored_nodes.append(current_node)\n",
    "            \n",
    "            if current_node == self.goal_node:\n",
    "                break\n",
    "                \n",
    "            for __direction__ in ['N', 'S', 'E', 'W']:\n",
    "                \n",
    "                if self.maze.maze_map[current_node][__direction__] == 1 :\n",
    "                    \n",
    "                    if __direction__ == 'N' : \n",
    "                        next_node = (current_node[0] - 1, current_node[1])\n",
    "                    \n",
    "                    elif __direction__ == 'S' : \n",
    "                        next_node = (current_node[0] + 1, current_node[1])\n",
    "                    \n",
    "                    elif __direction__ == 'E' : \n",
    "                        next_node = (current_node[0], current_node[1] + 1)\n",
    "                    \n",
    "                    elif __direction__ == 'W' : \n",
    "                        next_node = (current_node[0], current_node[1] - 1)\n",
    "                    \n",
    "                    var_next_node_cost = self.next_node_cost[current_node] + 1\n",
    "                    var_total_cost = var_next_node_cost + self.get_euclidian_distance_heuristic_cost(next_node)\n",
    "                    \n",
    "                    if var_total_cost < self.total_cost[next_node] : \n",
    "                        self.total_cost[next_node] = var_total_cost\n",
    "                        self.next_node_cost[next_node] = var_next_node_cost  \n",
    "                        priority_queue.put((var_total_cost, self.get_euclidian_distance_heuristic_cost(next_node), next_node))\n",
    "                        path_traversed[next_node] = current_node\n",
    "        \n",
    "        end_time = time.time() * 1000\n",
    "        time_taken = (end_time - start_time)\n",
    "        \n",
    "        memory_size, memory_peak = self.stop_memory_tracing()\n",
    "        memory_consumed = round((memory_peak/(1024*1024)), 3)\n",
    "       \n",
    "        goal_nodes = self.find_goal_nodes(path_traversed, self.start_node, self.goal_node)\n",
    "        \n",
    "        statistics_df = pd.DataFrame(columns=['Maze Size', 'Time Taken (in ms)', 'Memory Consumed (in MB)', 'Number of Cells Explored', 'Number of Cell in Shortest Path to Goal'])\n",
    "        statistics_dict = {}\n",
    "        statistics_dict['Maze Size'] = str(self.maze_size) + 'X' + str(self.maze_size)\n",
    "        statistics_dict['Time Taken (in ms)'] = time_taken\n",
    "        statistics_dict['Memory Consumed (in MB)'] = memory_consumed\n",
    "        statistics_dict['Number of Cells Explored'] = len(path_traversed) + 1\n",
    "        statistics_dict['Number of Cell in Shortest Path to Goal'] = len(goal_nodes) + 1\n",
    "        \n",
    "        self.display_astar_path(explored_nodes, goal_nodes, time_taken, memory_consumed, len(path_traversed) + 1, len(goal_nodes) + 1)\n",
    "        \n",
    "        statistics_df = statistics_df.append(statistics_dict, ignore_index = True)\n",
    "        \n",
    "        return statistics_df\n",
    "        \n",
    "    def get_euclidian_distance_heuristic_cost(self, node):\n",
    "        x, y = node\n",
    "        goal_x, goal_y = self.maze._goal\n",
    "        return np.sqrt(pow((goal_x - x), 2) + pow((goal_y - y), 2)) \n",
    "    \n",
    "    def find_goal_nodes(self, path_traversed, start_node, goal_node) : \n",
    "        goal_nodes = {}\n",
    "\n",
    "        while goal_node != start_node : \n",
    "            goal_nodes[path_traversed[goal_node]] = goal_node\n",
    "            goal_node = path_traversed[goal_node]\n",
    "\n",
    "        return goal_nodes\n",
    "\n",
    "    def display_astar_path(self, explored_nodes, goal_nodes, time_taken, memory_consumed, len_path_traversed, len_goal_nodes) : \n",
    "        explored_path = agent(self.maze, x = self.maze_size, y = self.maze_size, goal = (1, 1), footprints = True, color=COLOR.red, filled = True)\n",
    "        goal_path = agent(self.maze, x = self.maze_size, y = self.maze_size, footprints = True, color=COLOR.cyan)\n",
    "        \n",
    "        self.maze.tracePath({explored_path : explored_nodes}, delay = 10)\n",
    "        self.maze.tracePath({goal_path : goal_nodes}, delay = 100)\n",
    "        \n",
    "        textLabel(self.maze, 'Maze Size ', str(self.maze_size) + 'X' + str(self.maze_size))\n",
    "        textLabel(self.maze, 'Time Taken (in ms) ', time_taken)\n",
    "        textLabel(self.maze, 'Memory Consumed (in MB) ', memory_consumed)\n",
    "        textLabel(self.maze, 'Number of Cells Explored ', len_path_traversed)\n",
    "        textLabel(self.maze, 'Number of Cell in Shortest Path to Goal ', len_goal_nodes)\n",
    "        \n",
    "        self.maze.run()\n",
    "  "
   ]
  },
  {
   "cell_type": "markdown",
   "id": "10cf6160",
   "metadata": {},
   "source": [
    "### Executing A* for Maze Size 20 X 20"
   ]
  },
  {
   "cell_type": "code",
   "execution_count": 6,
   "id": "b4136fc1",
   "metadata": {},
   "outputs": [
    {
     "data": {
      "text/html": [
       "<style  type=\"text/css\" >\n",
       "#T_5fe67_row0_col0,#T_5fe67_row0_col1,#T_5fe67_row0_col2,#T_5fe67_row0_col3,#T_5fe67_row0_col4{\n",
       "            white-space: nowrap;\n",
       "        }</style><table id=\"T_5fe67_\" ><thead>    <tr>        <th class=\"blank level0\" ></th>        <th class=\"col_heading level0 col0\" >Maze Size</th>        <th class=\"col_heading level0 col1\" >Time Taken (in ms)</th>        <th class=\"col_heading level0 col2\" >Memory Consumed (in MB)</th>        <th class=\"col_heading level0 col3\" >Number of Cells Explored</th>        <th class=\"col_heading level0 col4\" >Number of Cell in Shortest Path to Goal</th>    </tr></thead><tbody>\n",
       "                <tr>\n",
       "                        <th id=\"T_5fe67_level0_row0\" class=\"row_heading level0 row0\" >0</th>\n",
       "                        <td id=\"T_5fe67_row0_col0\" class=\"data row0 col0\" >20X20</td>\n",
       "                        <td id=\"T_5fe67_row0_col1\" class=\"data row0 col1\" >8.975586</td>\n",
       "                        <td id=\"T_5fe67_row0_col2\" class=\"data row0 col2\" >0.037000</td>\n",
       "                        <td id=\"T_5fe67_row0_col3\" class=\"data row0 col3\" >359</td>\n",
       "                        <td id=\"T_5fe67_row0_col4\" class=\"data row0 col4\" >65</td>\n",
       "            </tr>\n",
       "    </tbody></table>"
      ],
      "text/plain": [
       "<pandas.io.formats.style.Styler at 0x22d7f99a130>"
      ]
     },
     "metadata": {},
     "output_type": "display_data"
    }
   ],
   "source": [
    "astar_20 = A_Star_Search(20)\n",
    "\n",
    "statistics = astar_20.execute_a_star_search()\n",
    "\n",
    "statistics = statistics.style.applymap(lambda x:'white-space:nowrap')\n",
    "display(statistics)\n"
   ]
  },
  {
   "cell_type": "markdown",
   "id": "cc78ad9e",
   "metadata": {},
   "source": [
    "### Executing A* for Maze Size 30 X 30"
   ]
  },
  {
   "cell_type": "code",
   "execution_count": 7,
   "id": "f2b61ab4",
   "metadata": {},
   "outputs": [
    {
     "data": {
      "text/html": [
       "<style  type=\"text/css\" >\n",
       "#T_1eb60_row0_col0,#T_1eb60_row0_col1,#T_1eb60_row0_col2,#T_1eb60_row0_col3,#T_1eb60_row0_col4{\n",
       "            white-space: nowrap;\n",
       "        }</style><table id=\"T_1eb60_\" ><thead>    <tr>        <th class=\"blank level0\" ></th>        <th class=\"col_heading level0 col0\" >Maze Size</th>        <th class=\"col_heading level0 col1\" >Time Taken (in ms)</th>        <th class=\"col_heading level0 col2\" >Memory Consumed (in MB)</th>        <th class=\"col_heading level0 col3\" >Number of Cells Explored</th>        <th class=\"col_heading level0 col4\" >Number of Cell in Shortest Path to Goal</th>    </tr></thead><tbody>\n",
       "                <tr>\n",
       "                        <th id=\"T_1eb60_level0_row0\" class=\"row_heading level0 row0\" >0</th>\n",
       "                        <td id=\"T_1eb60_row0_col0\" class=\"data row0 col0\" >30X30</td>\n",
       "                        <td id=\"T_1eb60_row0_col1\" class=\"data row0 col1\" >18.917969</td>\n",
       "                        <td id=\"T_1eb60_row0_col2\" class=\"data row0 col2\" >0.074000</td>\n",
       "                        <td id=\"T_1eb60_row0_col3\" class=\"data row0 col3\" >772</td>\n",
       "                        <td id=\"T_1eb60_row0_col4\" class=\"data row0 col4\" >99</td>\n",
       "            </tr>\n",
       "    </tbody></table>"
      ],
      "text/plain": [
       "<pandas.io.formats.style.Styler at 0x22d7a7fa070>"
      ]
     },
     "metadata": {},
     "output_type": "display_data"
    }
   ],
   "source": [
    "astar_30 = A_Star_Search(30)\n",
    "\n",
    "statistics = astar_30.execute_a_star_search()\n",
    "\n",
    "statistics = statistics.style.applymap(lambda x:'white-space:nowrap')\n",
    "display(statistics)\n"
   ]
  },
  {
   "cell_type": "markdown",
   "id": "16387aee",
   "metadata": {},
   "source": [
    "### Executing A* for Maze Size 40 X 40"
   ]
  },
  {
   "cell_type": "code",
   "execution_count": 16,
   "id": "fe6b5c22",
   "metadata": {},
   "outputs": [
    {
     "data": {
      "text/html": [
       "<style  type=\"text/css\" >\n",
       "#T_a4e76_row0_col0,#T_a4e76_row0_col1,#T_a4e76_row0_col2,#T_a4e76_row0_col3,#T_a4e76_row0_col4{\n",
       "            white-space: nowrap;\n",
       "        }</style><table id=\"T_a4e76_\" ><thead>    <tr>        <th class=\"blank level0\" ></th>        <th class=\"col_heading level0 col0\" >Maze Size</th>        <th class=\"col_heading level0 col1\" >Time Taken (in ms)</th>        <th class=\"col_heading level0 col2\" >Memory Consumed (in MB)</th>        <th class=\"col_heading level0 col3\" >Number of Cells Explored</th>        <th class=\"col_heading level0 col4\" >Number of Cell in Shortest Path to Goal</th>    </tr></thead><tbody>\n",
       "                <tr>\n",
       "                        <th id=\"T_a4e76_level0_row0\" class=\"row_heading level0 row0\" >0</th>\n",
       "                        <td id=\"T_a4e76_row0_col0\" class=\"data row0 col0\" >40X40</td>\n",
       "                        <td id=\"T_a4e76_row0_col1\" class=\"data row0 col1\" >30.916504</td>\n",
       "                        <td id=\"T_a4e76_row0_col2\" class=\"data row0 col2\" >0.074000</td>\n",
       "                        <td id=\"T_a4e76_row0_col3\" class=\"data row0 col3\" >1210</td>\n",
       "                        <td id=\"T_a4e76_row0_col4\" class=\"data row0 col4\" >127</td>\n",
       "            </tr>\n",
       "    </tbody></table>"
      ],
      "text/plain": [
       "<pandas.io.formats.style.Styler at 0x22d7f9de190>"
      ]
     },
     "metadata": {},
     "output_type": "display_data"
    }
   ],
   "source": [
    "astar_40 = A_Star_Search(40)\n",
    "\n",
    "statistics = astar_40.execute_a_star_search()\n",
    "\n",
    "statistics = statistics.style.applymap(lambda x:'white-space:nowrap')\n",
    "display(statistics)\n"
   ]
  },
  {
   "cell_type": "code",
   "execution_count": null,
   "id": "8c24b97b",
   "metadata": {},
   "outputs": [],
   "source": []
  }
 ],
 "metadata": {
  "kernelspec": {
   "display_name": "Python 3",
   "language": "python",
   "name": "python3"
  },
  "language_info": {
   "codemirror_mode": {
    "name": "ipython",
    "version": 3
   },
   "file_extension": ".py",
   "mimetype": "text/x-python",
   "name": "python",
   "nbconvert_exporter": "python",
   "pygments_lexer": "ipython3",
   "version": "3.8.8"
  }
 },
 "nbformat": 4,
 "nbformat_minor": 5
}
